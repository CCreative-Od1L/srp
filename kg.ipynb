{
 "cells": [
  {
   "cell_type": "code",
   "execution_count": 26,
   "metadata": {},
   "outputs": [],
   "source": [
    "from transformers import AutoTokenizer, AutoModelForTokenClassification\n",
    "import torch"
   ]
  },
  {
   "cell_type": "code",
   "execution_count": 27,
   "metadata": {},
   "outputs": [],
   "source": [
    "from transformers import pipeline"
   ]
  },
  {
   "cell_type": "code",
   "execution_count": 21,
   "metadata": {},
   "outputs": [],
   "source": [
    "## the classifier is used to NER.\n",
    "## 当然这东西花了十多分钟随便搭起来的，简陋了一点\n",
    "class AbstractClassifier(object):\n",
    "        \n",
    "        def __init__(self,model_name,tokenizer_name,token_type):\n",
    "            self.classifier = pipeline(\"token-classification\",model=model_name,tokenizer=tokenizer_name)\n",
    "            self.token_type = token_type\n",
    "        # it will return a index_buf\n",
    "        # item in index_buf explain\n",
    "        # index_buf[0]: word start index\n",
    "        # index_buf[1]: word end index\n",
    "        # index_buf[2]: word types\n",
    "        def get_sentence_index(self,sentence):\n",
    "            ## 感兴趣的可以自行看看result的返回值，或许对你有所帮助\n",
    "            dic_result = self.classifier(sentence)\n",
    "\n",
    "            index_buf = []\n",
    "            count = -1\n",
    "            for item in dic_result:\n",
    "                if( 'b-' in item['entity'].lower()):\n",
    "                    count += 1\n",
    "                    index_buf.append([item['start'],item['end'],self.token_type])\n",
    "                if( 'i-' in item['entity'].lower()):\n",
    "                    index_buf[count][1] = item['end']\n",
    "            return index_buf\n"
   ]
  },
  {
   "cell_type": "code",
   "execution_count": null,
   "metadata": {},
   "outputs": [],
   "source": [
    "## 用来识别 疾病实体 的分类器\n",
    "disease_classifier = AbstractClassifier(model_name=\"alvaroalon2/biobert_diseases_ner\",\n",
    "                                        tokenizer_name=\"alvaroalon2/biobert_diseases_ner\",\n",
    "                                        token_type=\"disease\")\n",
    "## 用来识别 药物/化学品实体 的分类器\n",
    "chemical_classifier = AbstractClassifier(model_name=\"sschet/biobert_chemical_ner\",\n",
    "                                         tokenizer_name=\"sschet/biobert_chemical_ner\",\n",
    "                                         token_type=\"chemical\")\n",
    "## 用来识别 基因/蛋白质实体 的分类器\n",
    "genetic_classifier = AbstractClassifier(model_name=\"alvaroalon2/biobert_genetic_ner\",\n",
    "                                        tokenizer_name=\"alvaroalon2/biobert_genetic_ner\",\n",
    "                                        token_type=\"genetic\")\n",
    "## 测试句子\n",
    "sentence = \"Hepatitis B virus (Hepatitis B) is the pathogen that causes hepatitis B (hepatitis B for short).\"\n",
    "sentence += \"Nitrofurans are broad-spectrum antibiotics that kill most gram-positive and Gram-negative bacteria, fungi, protozoa and other pathogens. They act on microbial enzyme system, inhibit acetyl-coA, interfere with microbial carbohydrate metabolism, and thus play A antibacterial role.\"\n",
    "sentence += \"Fibrinogen is one of the earliest coagulation factors found by human beings. It is an elongated ellipsoid. It is a dimer formed by three pairs of polypeptide chains (a pair of α chains, a pair of β chains, a pair of γ chains) connected by disulfide bonds, and its molecular weight is about 340,000.\"\n",
    "## 用来存字符索引的\n",
    "index_bufs = []\n",
    "index_bufs.append(disease_classifier.get_sentence_index(sentence))\n",
    "index_bufs.append(chemical_classifier.get_sentence_index(sentence))\n",
    "index_bufs.append(genetic_classifier.get_sentence_index(sentence))"
   ]
  },
  {
   "cell_type": "code",
   "execution_count": 25,
   "metadata": {},
   "outputs": [
    {
     "name": "stdout",
     "output_type": "stream",
     "text": [
      "word:\"Hepatitis B\" type:disease\n",
      "word:\"Hepatitis B\" type:disease\n",
      "word:\"hepatitis B\" type:disease\n",
      "word:\"hepatitis B\" type:disease\n",
      "word:\"Nitrofuran\" type:chemical\n",
      "word:\"acetyl-coA\" type:chemical\n",
      "word:\"carbohydrate\" type:chemical\n",
      "word:\"disulfide\" type:chemical\n",
      "word:\"Fibrinogen\" type:genetic\n"
     ]
    }
   ],
   "source": [
    "## 按照以下方式来打印识别到的实体\n",
    "for index_buf in index_bufs:\n",
    "    for index_pair in index_buf:\n",
    "        print(\"word:\\\"\"+ sentence[index_pair[0]:index_pair[1]] + \"\\\" type:\" + index_pair[2])"
   ]
  }
 ],
 "metadata": {
  "kernelspec": {
   "display_name": "srp",
   "language": "python",
   "name": "python3"
  },
  "language_info": {
   "codemirror_mode": {
    "name": "ipython",
    "version": 3
   },
   "file_extension": ".py",
   "mimetype": "text/x-python",
   "name": "python",
   "nbconvert_exporter": "python",
   "pygments_lexer": "ipython3",
   "version": "3.10.9"
  },
  "orig_nbformat": 4
 },
 "nbformat": 4,
 "nbformat_minor": 2
}
