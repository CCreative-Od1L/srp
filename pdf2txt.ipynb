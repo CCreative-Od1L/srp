{
 "cells": [
  {
   "cell_type": "code",
   "execution_count": 26,
   "metadata": {},
   "outputs": [],
   "source": [
    "\n",
    "## 使用本工具之前请安装依赖\n",
    "## PyMuPDF tqdm beautifulsoup4\n",
    "\n",
    "import fitz\n",
    "from tqdm import tqdm\n",
    "from bs4 import BeautifulSoup\n",
    "import re\n",
    "import os"
   ]
  },
  {
   "cell_type": "code",
   "execution_count": 22,
   "metadata": {},
   "outputs": [],
   "source": [
    "\n",
    "#将pdf转成html\n",
    "def pdf2html(input_path,html_path):\n",
    "\n",
    "    doc = fitz.open(input_path)\n",
    "    html_content = ''\n",
    "    for page in tqdm(doc):\n",
    "        html_content += page.get_text('html')\n",
    "    html_content +=\"</body></html>\"\n",
    "    \n",
    "    with open(html_path, 'w', encoding = 'utf-8', newline='')as fp:\n",
    "        fp.write(html_content)\n"
   ]
  },
  {
   "cell_type": "code",
   "execution_count": 23,
   "metadata": {},
   "outputs": [],
   "source": [
    "\n",
    "#使用Beautifulsoup解析本地html\n",
    "def html2txt(html_path, num):\n",
    "    html_file = open(html_path, 'r', encoding = 'utf-8')\n",
    "    htmlhandle = html_file.read()\n",
    "    soup = BeautifulSoup(htmlhandle, \"html.parser\")\n",
    "    for div in soup.find_all('div'):\n",
    "        for p in div:\n",
    "            text = str()\n",
    "            for span in p:\n",
    "                p_info = '<span .*?>(.*?)</span>'   #提取规则\n",
    "                res = re.findall(p_info,str(span))  #findall函数\n",
    "                if len(res) ==0:\n",
    "                    pass\n",
    "                else:\n",
    "                    text+= res[0]  #将列表中的字符串内容合并加到行字符串中\n",
    "            print(text)\n",
    "            #! 注意这个地方，小心不要重置了原文件。转换完成之后请将文件移出至txt\n",
    "            with open(\".\\\\dataset\\\\p2t_output\\\\A{}.txt\".format(num),'a',encoding = 'utf-8')as text_file:\n",
    "                text_file.write(text)\n",
    "                text_file.write('\\n')\n"
   ]
  },
  {
   "cell_type": "code",
   "execution_count": null,
   "metadata": {},
   "outputs": [],
   "source": [
    "## 测试单元\n",
    "# input_dir = os.path.abspath('.')\n",
    "\n",
    "# for root, dirs, files in os.walk(os.path.join(input_dir,'dataset\\\\pdf\\\\')):\n",
    "#     for file in files:\n",
    "#         print(os.path.join(root,file))"
   ]
  },
  {
   "cell_type": "code",
   "execution_count": null,
   "metadata": {},
   "outputs": [],
   "source": [
    "\n",
    "# main function\n",
    "input_dir = os.path.abspath('.')\n",
    "html_path = r'.\\\\dataset\\\\A.html'\n",
    "\n",
    "for root, dirs, files in os.walk(os.path.join(input_dir,'dataset\\\\pdf\\\\')):\n",
    "    count = 1\n",
    "    for file in files:\n",
    "        count += 1\n",
    "        input_path = os.path.join(root,file)\n",
    "        #pdf转html\n",
    "        pdf2html(input_path,html_path)\n",
    "        #解析html保存为txt\n",
    "        html2txt(html_path,count)"
   ]
  }
 ],
 "metadata": {
  "kernelspec": {
   "display_name": "srp",
   "language": "python",
   "name": "python3"
  },
  "language_info": {
   "codemirror_mode": {
    "name": "ipython",
    "version": 3
   },
   "file_extension": ".py",
   "mimetype": "text/x-python",
   "name": "python",
   "nbconvert_exporter": "python",
   "pygments_lexer": "ipython3",
   "version": "3.10.9"
  },
  "orig_nbformat": 4
 },
 "nbformat": 4,
 "nbformat_minor": 2
}
